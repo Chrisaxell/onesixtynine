{
 "cells": [
  {
   "cell_type": "code",
   "execution_count": 3,
   "id": "a962028d-140c-4e6c-ab10-4f5d293c4eff",
   "metadata": {},
   "outputs": [
    {
     "name": "stdout",
     "output_type": "stream",
     "text": [
      "Sannsyn for at Ap+SV+Sp+R+MDG > H+FrP+KrF+V: 0.0000\n"
     ]
    }
   ],
   "source": [
    "import numpy as np\n",
    "\n",
    "# Data frå all_pred\n",
    "parties = {\n",
    "    \"Ap\": (19.232083, 18.140119, 20.285584),\n",
    "    \"SV\": (9.289484, 8.603512, 9.989698),\n",
    "    \"Sp\": (5.593741, 4.456879, 6.828874),\n",
    "    \"Rodt\": (5.132772, 4.371419, 5.918580),\n",
    "    \"MDG\": (3.416563, 3.022827, 3.769606),\n",
    "    \"Hoyre\": (18.504629, 16.695958, 20.438473),\n",
    "    \"Frp\": (25.443152, 24.167373, 26.605551),\n",
    "    \"KrF\": (3.486558, 3.245975, 3.772522),\n",
    "    \"Venstre\": (5.996908, 5.502743, 6.529766)\n",
    "}\n",
    "\n",
    "# Antall simuleringar\n",
    "n_sim = 100000\n",
    "\n",
    "# Trekke stemmer frå normalfordeling\n",
    "red_green_votes = np.zeros(n_sim)\n",
    "blue_votes = np.zeros(n_sim)\n",
    "\n",
    "for party, (yhat, lower, upper) in parties.items():\n",
    "    std_dev = (upper - lower) / 3.92  # Omformar intervall til standardavvik (~95% dekking)\n",
    "    samples = np.random.normal(yhat, std_dev, n_sim)\n",
    "    \n",
    "    if party in [\"Ap\", \"SV\", \"Sp\", \"Rodt\", \"MDG\"]:\n",
    "        red_green_votes += samples\n",
    "    else:\n",
    "        blue_votes += samples\n",
    "\n",
    "# Sannsyn for at den raudgrøne blokka er større\n",
    "prob_red_green_wins = np.mean(red_green_votes > blue_votes)\n",
    "\n",
    "print(f\"Sannsyn for at Ap+SV+Sp+R+MDG > H+FrP+KrF+V: {prob_red_green_wins:.4f}\")\n"
   ]
  },
  {
   "cell_type": "code",
   "execution_count": 4,
   "id": "725a4272-1cc0-4934-b877-e100bd977beb",
   "metadata": {},
   "outputs": [
    {
     "name": "stdout",
     "output_type": "stream",
     "text": [
      "Probability that Group 1 (Ap + SV + Sp + Rodt + MDG) is larger than Group 2 (Hoyre + Frp + KrF + Venstre): 0.0000\n"
     ]
    }
   ],
   "source": [
    "import numpy as np\n",
    "import pandas as pd\n",
    "\n",
    "# Input Data (party, estimate, lower, high)\n",
    "data = {\n",
    "    'party': ['Ap', 'Hoyre', 'Frp', 'SV', 'Sp', 'KrF', 'Venstre', 'MDG', 'Rodt', 'Andre'],\n",
    "    'estimate': [19.232083, 18.504629, 25.443152, 9.289484, 5.593741, 3.486558, 5.996908, 3.416563, 5.132772, 3.904109],\n",
    "    'lower': [17.403175, 15.660473, 23.630302, 8.087047, 3.795392, 3.095527, 5.218467, 2.852166, 4.021895, 2.846611],\n",
    "    'high': [20.973558, 21.245416, 27.368616, 10.310349, 7.308616, 3.928326, 6.835968, 3.949766, 6.305181, 4.983875]\n",
    "}\n",
    "\n",
    "df = pd.DataFrame(data)\n",
    "\n",
    "# Create new columns to estimate standard deviation using the formula (upper - lower) / 3.92\n",
    "df['std_dev'] = (df['high'] - df['lower']) / 3.92\n",
    "\n",
    "# Define groups:\n",
    "group_1_parties = ['Ap', 'SV', 'Sp', 'Rodt', 'MDG']  # Group 1: Ap, SV, Sp, Rodt, MDG\n",
    "group_2_parties = ['Hoyre', 'Frp', 'KrF', 'Venstre']  # Group 2: Hoyre, Frp, KrF, Venstre\n",
    "\n",
    "# Number of simulations\n",
    "num_simulations = 10000\n",
    "\n",
    "# Simulation function\n",
    "def monte_carlo_simulation(df, group_1_parties, group_2_parties, num_simulations):\n",
    "    group_1_sums = []\n",
    "    group_2_sums = []\n",
    "\n",
    "    # Run the Monte Carlo simulations\n",
    "    for _ in range(num_simulations):\n",
    "        group_1_sum = 0\n",
    "        group_2_sum = 0\n",
    "\n",
    "        # Generate random outcomes for each party in Group 1 and Group 2\n",
    "        for index, row in df.iterrows():\n",
    "            party = row['party']\n",
    "            random_value = np.random.normal(loc=row['estimate'], scale=row['std_dev'])\n",
    "\n",
    "            if party in group_1_parties:\n",
    "                group_1_sum += random_value\n",
    "            elif party in group_2_parties:\n",
    "                group_2_sum += random_value\n",
    "\n",
    "        group_1_sums.append(group_1_sum)\n",
    "        group_2_sums.append(group_2_sum)\n",
    "\n",
    "    return group_1_sums, group_2_sums\n",
    "\n",
    "# Run the simulation\n",
    "group_1_sums, group_2_sums = monte_carlo_simulation(df, group_1_parties, group_2_parties, num_simulations)\n",
    "\n",
    "# Calculate the probability that Group 1 is larger than Group 2\n",
    "group_1_larger = np.sum(np.array(group_1_sums) > np.array(group_2_sums)) / num_simulations\n",
    "\n",
    "# Print results\n",
    "print(f'Probability that Group 1 (Ap + SV + Sp + Rodt + MDG) is larger than Group 2 (Hoyre + Frp + KrF + Venstre): {group_1_larger:.4f}')\n"
   ]
  },
  {
   "cell_type": "code",
   "execution_count": null,
   "id": "47fddb1a-4f8e-47d9-be44-1e37f54590df",
   "metadata": {},
   "outputs": [],
   "source": []
  }
 ],
 "metadata": {
  "kernelspec": {
   "display_name": "Python 3 (ipykernel)",
   "language": "python",
   "name": "python3"
  },
  "language_info": {
   "codemirror_mode": {
    "name": "ipython",
    "version": 3
   },
   "file_extension": ".py",
   "mimetype": "text/x-python",
   "name": "python",
   "nbconvert_exporter": "python",
   "pygments_lexer": "ipython3",
   "version": "3.12.3"
  }
 },
 "nbformat": 4,
 "nbformat_minor": 5
}

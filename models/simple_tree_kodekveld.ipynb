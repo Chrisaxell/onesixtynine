{
 "cells": [
  {
   "cell_type": "code",
   "execution_count": 202,
   "id": "929f3f85-76f6-4c0c-a41f-f2d088047029",
   "metadata": {},
   "outputs": [],
   "source": [
    "from sklearn.pipeline import Pipeline\n",
    "from sklearn.ensemble import RandomForestRegressor\n",
    "from sklearn.feature_selection import SelectFromModel\n",
    "from sklearn.model_selection import train_test_split\n",
    "from sklearn.metrics import mean_squared_error, r2_score\n",
    "import numpy as np"
   ]
  },
  {
   "cell_type": "code",
   "execution_count": 203,
   "id": "4543a2ea-fa12-497e-b9ed-f16b353e0b0e",
   "metadata": {},
   "outputs": [],
   "source": [
    "# Load the data from a CSV file\n",
    "df = pd.read_csv(\"../data/all_v2_data.csv\", sep=\",\")\n",
    "df_pred= pd.read_csv(\"../data/september_to_predict.csv\", sep=\",\")"
   ]
  },
  {
   "cell_type": "code",
   "execution_count": 204,
   "id": "c002da91-5b53-44ee-bfea-05ff0e8ddbf7",
   "metadata": {},
   "outputs": [],
   "source": [
    "df.dropna(inplace=True)"
   ]
  },
  {
   "cell_type": "code",
   "execution_count": 205,
   "id": "dfc055ee-9252-4bdd-ba71-5d97ca6dd7d1",
   "metadata": {},
   "outputs": [
    {
     "data": {
      "text/html": [
       "<div>\n",
       "<style scoped>\n",
       "    .dataframe tbody tr th:only-of-type {\n",
       "        vertical-align: middle;\n",
       "    }\n",
       "\n",
       "    .dataframe tbody tr th {\n",
       "        vertical-align: top;\n",
       "    }\n",
       "\n",
       "    .dataframe thead th {\n",
       "        text-align: right;\n",
       "    }\n",
       "</style>\n",
       "<table border=\"1\" class=\"dataframe\">\n",
       "  <thead>\n",
       "    <tr style=\"text-align: right;\">\n",
       "      <th></th>\n",
       "      <th>Mnd</th>\n",
       "      <th>Ap</th>\n",
       "      <th>Hoyre</th>\n",
       "      <th>Frp</th>\n",
       "      <th>SV</th>\n",
       "      <th>SP</th>\n",
       "      <th>KrF</th>\n",
       "      <th>Venstre</th>\n",
       "      <th>MDG</th>\n",
       "      <th>Rodt</th>\n",
       "      <th>...</th>\n",
       "      <th>Rodt_reg_lag3</th>\n",
       "      <th>Rodt_reg_lag6</th>\n",
       "      <th>Andre_reg_lag3</th>\n",
       "      <th>Andre_reg_lag6</th>\n",
       "      <th>ledighet</th>\n",
       "      <th>ledig_trend3</th>\n",
       "      <th>ledig_trend6</th>\n",
       "      <th>styringsrente</th>\n",
       "      <th>styringsrente_trend3</th>\n",
       "      <th>styringsrente_trend6</th>\n",
       "    </tr>\n",
       "  </thead>\n",
       "  <tbody>\n",
       "    <tr>\n",
       "      <th>0</th>\n",
       "      <td>9/30/2025</td>\n",
       "      <td>NaN</td>\n",
       "      <td>NaN</td>\n",
       "      <td>NaN</td>\n",
       "      <td>NaN</td>\n",
       "      <td>NaN</td>\n",
       "      <td>NaN</td>\n",
       "      <td>NaN</td>\n",
       "      <td>NaN</td>\n",
       "      <td>NaN</td>\n",
       "      <td>...</td>\n",
       "      <td>0</td>\n",
       "      <td>0</td>\n",
       "      <td>0</td>\n",
       "      <td>0</td>\n",
       "      <td>4</td>\n",
       "      <td>0</td>\n",
       "      <td>0</td>\n",
       "      <td>4</td>\n",
       "      <td>0</td>\n",
       "      <td>-0.033333</td>\n",
       "    </tr>\n",
       "  </tbody>\n",
       "</table>\n",
       "<p>1 rows × 87 columns</p>\n",
       "</div>"
      ],
      "text/plain": [
       "         Mnd  Ap  Hoyre  Frp  SV  SP  KrF  Venstre  MDG  Rodt  ...  \\\n",
       "0  9/30/2025 NaN    NaN  NaN NaN NaN  NaN      NaN  NaN   NaN  ...   \n",
       "\n",
       "   Rodt_reg_lag3  Rodt_reg_lag6  Andre_reg_lag3  Andre_reg_lag6  ledighet  \\\n",
       "0              0              0               0               0         4   \n",
       "\n",
       "   ledig_trend3  ledig_trend6  styringsrente  styringsrente_trend3  \\\n",
       "0             0             0              4                     0   \n",
       "\n",
       "   styringsrente_trend6  \n",
       "0             -0.033333  \n",
       "\n",
       "[1 rows x 87 columns]"
      ]
     },
     "execution_count": 205,
     "metadata": {},
     "output_type": "execute_result"
    }
   ],
   "source": [
    "df_pred"
   ]
  },
  {
   "cell_type": "code",
   "execution_count": 206,
   "id": "8c689ea2-757d-41d7-a435-c2336113cc0b",
   "metadata": {},
   "outputs": [],
   "source": [
    "parties=['Ap', 'Hoyre', 'Frp', 'SV', 'SP', 'KrF', 'Venstre', 'MDG','Rodt', 'Andre']\n",
    "predictions=[]"
   ]
  },
  {
   "cell_type": "code",
   "execution_count": null,
   "id": "ee11409a-2c4f-4661-9dc5-b6e2635a103f",
   "metadata": {},
   "outputs": [
    {
     "name": "stdout",
     "output_type": "stream",
     "text": [
      "Ap: 30.495130000002128\n",
      "Hoyre: 17.329289999999876\n",
      "Frp: 19.31503999999855\n",
      "SV: 6.5467300000007045\n",
      "SP: 7.048320000000186\n",
      "KrF: 3.392479999999848\n"
     ]
    }
   ],
   "source": [
    "for party in parties:\n",
    "    y=df[[party]]\n",
    "    X=df[[f'{party}_var', f'{party}_skandale',f'{party}_skandale_lag3', f'{party}_skandale_lag6', \n",
    "          f'{party}_reg', f'{party}_reg_lag3',f'{party}_reg_lag6', \n",
    "       'ledighet', 'ledig_trend3', 'ledig_trend6', 'styringsrente',\n",
    "       'styringsrente_trend3', 'styringsrente_trend6']]\n",
    "    x_pred=df_pred[[f'{party}_var', f'{party}_skandale',f'{party}_skandale_lag3', f'{party}_skandale_lag6', \n",
    "          f'{party}_reg', f'{party}_reg_lag3',f'{party}_reg_lag6', \n",
    "       'ledighet', 'ledig_trend3', 'ledig_trend6', 'styringsrente',\n",
    "       'styringsrente_trend3', 'styringsrente_trend6']]\n",
    "    \n",
    "    x_train, x_test, y_train, y_test = train_test_split(\n",
    "    X, y, test_size=0.05, random_state=42\n",
    "    )\n",
    "    pipeline = Pipeline([\n",
    "    (\"feature_selection\", SelectFromModel(RandomForestRegressor(n_estimators=100, random_state=42), threshold=\"median\")),\n",
    "    (\"regressor\", RandomForestRegressor(n_estimators=10000, random_state=42))\n",
    "    ])\n",
    "    pipeline.fit(x_train, y_train.values.ravel())\n",
    "    y_pred = pipeline.predict(x_test)\n",
    "    r2 = r2_score(y_test, y_pred)\n",
    "    \n",
    "    \n",
    "    p=pipeline.predict(x_pred)\n",
    "    print(party + \": \" + str(p[0]))\n",
    "    predictions.append({'party': party, 'prediction': p[0], \"r2_score\": r2})"
   ]
  },
  {
   "cell_type": "code",
   "execution_count": null,
   "id": "2ecb177c-dcac-41c2-94dc-f7273271f322",
   "metadata": {},
   "outputs": [],
   "source": [
    "pred_df = pd.DataFrame(predictions)\n",
    "total = pred_df['prediction'].sum()\n",
    "pred_df['prediction'] = (pred_df['prediction'] / total) * 100\n",
    "\n",
    "# Optional: Round to 2 decimals for clarity\n",
    "pred_df['prediction'] = pred_df['prediction'].round(2)"
   ]
  },
  {
   "cell_type": "code",
   "execution_count": null,
   "id": "39791785-64a5-409f-a808-7fcf71582930",
   "metadata": {},
   "outputs": [],
   "source": [
    "pred_df"
   ]
  }
 ],
 "metadata": {
  "kernelspec": {
   "display_name": "Python 3 (ipykernel)",
   "language": "python",
   "name": "python3"
  },
  "language_info": {
   "codemirror_mode": {
    "name": "ipython",
    "version": 3
   },
   "file_extension": ".py",
   "mimetype": "text/x-python",
   "name": "python",
   "nbconvert_exporter": "python",
   "pygments_lexer": "ipython3",
   "version": "3.12.3"
  }
 },
 "nbformat": 4,
 "nbformat_minor": 5
}

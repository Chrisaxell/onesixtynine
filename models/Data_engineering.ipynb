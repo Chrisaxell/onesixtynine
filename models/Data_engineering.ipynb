{
 "cells": [
  {
   "cell_type": "code",
   "execution_count": null,
   "id": "1a04f9f8-6508-455b-a3fa-77c41229641c",
   "metadata": {},
   "outputs": [],
   "source": [
    "import pandas as pd"
   ]
  },
  {
   "cell_type": "code",
   "execution_count": null,
   "id": "dbd28890-1442-471a-8085-243caa31c612",
   "metadata": {},
   "outputs": [],
   "source": [
    "# Load the dataset\n",
    "df = pd.read_csv(\"your_dataset.csv\", sep=\";\", parse_dates=[\"Mnd\"], dayfirst=True)\n",
    "df = df.sort_values(\"Mnd\").reset_index(drop=True)  # Ensure chronological order"
   ]
  },
  {
   "cell_type": "code",
   "execution_count": null,
   "id": "61d4cb0c-3327-41f1-85ac-268ea9415937",
   "metadata": {},
   "outputs": [],
   "source": [
    "# Convert the 'Mnd' column to datetime and set as index\n",
    "df[\"Mnd\"] = pd.to_datetime(df[\"Mnd\"], format=\"%B-%y\")\n",
    "df = df.set_index(\"Mnd\")"
   ]
  },
  {
   "cell_type": "code",
   "execution_count": null,
   "id": "3bf455ca-d5e0-400c-8197-2d75614e3ebc",
   "metadata": {},
   "outputs": [],
   "source": [
    "# Define the lag and trend periods\n",
    "lags = [1]  # Previous month\n",
    "trends = [3, 6, 12]  # 3-month, 6-month, and 12-month trends"
   ]
  },
  {
   "cell_type": "code",
   "execution_count": null,
   "id": "6553ef4a-560d-40a1-ba05-8709f31ac230",
   "metadata": {},
   "outputs": [],
   "source": [
    "# Create a new DataFrame to store engineered features\n",
    "df_features = df.copy()"
   ]
  },
  {
   "cell_type": "code",
   "execution_count": null,
   "id": "f7e8f7c4-abc4-4647-bc56-4f53c58aab99",
   "metadata": {},
   "outputs": [],
   "source": [
    "# Loop through each party and calculate features\n",
    "for party in df.columns:\n",
    "    # Previous month value\n",
    "    df_features[f\"{party}_prev\"] = df[party].shift(1)\n",
    "    \n",
    "    # Trends for the same party\n",
    "    for t in trends:\n",
    "        df_features[f\"{party}_trend_{t}\"] = df[party] - df[party].shift(t)\n",
    "    \n",
    "    # Trends for all other parties\n",
    "    for other_party in df.columns:\n",
    "        if other_party != party:\n",
    "            for t in trends:\n",
    "                df_features[f\"{party}_{other_party}_trend_{t}\"] = df[other_party] - df[other_party].shift(t)\n",
    "\n",
    "# Drop rows with NaN values caused by shifting\n",
    "df_features = df_features.dropna()"
   ]
  },
  {
   "cell_type": "code",
   "execution_count": null,
   "id": "32a031fd-7ea2-48b3-931f-e2b3b0de5c70",
   "metadata": {},
   "outputs": [],
   "source": [
    "\n",
    "# Save to CSV\n",
    "df_features.to_csv(\"engineered_dataset.csv\")\n",
    "\n",
    "print(\"Feature engineering complete! Dataset saved as 'engineered_dataset.csv'.\")\n"
   ]
  },
  {
   "cell_type": "code",
   "execution_count": null,
   "id": "9e71d5d8-4b87-4a56-8ca9-14bb5358f1f1",
   "metadata": {},
   "outputs": [],
   "source": []
  }
 ],
 "metadata": {
  "kernelspec": {
   "display_name": "Python 3 (ipykernel)",
   "language": "python",
   "name": "python3"
  },
  "language_info": {
   "codemirror_mode": {
    "name": "ipython",
    "version": 3
   },
   "file_extension": ".py",
   "mimetype": "text/x-python",
   "name": "python",
   "nbconvert_exporter": "python",
   "pygments_lexer": "ipython3",
   "version": "3.12.3"
  }
 },
 "nbformat": 4,
 "nbformat_minor": 5
}

{
 "cells": [
  {
   "cell_type": "code",
   "execution_count": 80,
   "id": "df1d95d3-d157-4936-9145-a5702204dd64",
   "metadata": {},
   "outputs": [],
   "source": [
    "import pandas as pd\n",
    "from sklearn.model_selection import train_test_split\n",
    "from sklearn.pipeline import Pipeline\n",
    "from sklearn.feature_selection import SelectKBest, f_regression  # f_regression for regression tasks\n",
    "from sklearn.linear_model import LinearRegression\n",
    "from sklearn.ensemble import RandomForestRegressor, VotingRegressor\n",
    "from sklearn.svm import SVR\n",
    "from sklearn.metrics import mean_squared_error  # for regression evaluation"
   ]
  },
  {
   "cell_type": "code",
   "execution_count": 58,
   "id": "e6df61cb-a796-4103-8f69-1a7fad1681a4",
   "metadata": {},
   "outputs": [],
   "source": [
    "df = pd.read_csv(\"../data/featured_data.csv\", sep=\";\")\n",
    "df_n=pd.read_csv(\"../data/featured_to_predict.csv\", sep=\";\")"
   ]
  },
  {
   "cell_type": "code",
   "execution_count": 59,
   "id": "ac9ab137-c2f6-468a-aa9d-7cfbaa53509e",
   "metadata": {},
   "outputs": [],
   "source": [
    "df.drop(columns=['Mnd'], inplace=True)"
   ]
  },
  {
   "cell_type": "code",
   "execution_count": 60,
   "id": "115a9d49-70ac-4f1d-bb2c-0cd65a27bcf5",
   "metadata": {},
   "outputs": [
    {
     "data": {
      "text/html": [
       "<div>\n",
       "<style scoped>\n",
       "    .dataframe tbody tr th:only-of-type {\n",
       "        vertical-align: middle;\n",
       "    }\n",
       "\n",
       "    .dataframe tbody tr th {\n",
       "        vertical-align: top;\n",
       "    }\n",
       "\n",
       "    .dataframe thead th {\n",
       "        text-align: right;\n",
       "    }\n",
       "</style>\n",
       "<table border=\"1\" class=\"dataframe\">\n",
       "  <thead>\n",
       "    <tr style=\"text-align: right;\">\n",
       "      <th></th>\n",
       "      <th>Ap_prev</th>\n",
       "      <th>Ap_trend_3</th>\n",
       "      <th>Ap_trend_6</th>\n",
       "      <th>Hoyre_prev</th>\n",
       "      <th>Hoyre_trend_3</th>\n",
       "      <th>Hoyre_trend_6</th>\n",
       "      <th>Frp_prev</th>\n",
       "      <th>Frp_trend_3</th>\n",
       "      <th>Frp_trend_6</th>\n",
       "      <th>SV_prev</th>\n",
       "      <th>...</th>\n",
       "      <th>Venstre_trend_6</th>\n",
       "      <th>MDG_prev</th>\n",
       "      <th>MDG_trend_3</th>\n",
       "      <th>MDG_trend_6</th>\n",
       "      <th>Rodt_prev</th>\n",
       "      <th>Rodt_trend_3</th>\n",
       "      <th>Rodt_trend_6</th>\n",
       "      <th>Andre_prev</th>\n",
       "      <th>Andre_trend_3</th>\n",
       "      <th>Andre_trend_6</th>\n",
       "    </tr>\n",
       "  </thead>\n",
       "  <tbody>\n",
       "    <tr>\n",
       "      <th>0</th>\n",
       "      <td>19.1</td>\n",
       "      <td>-0.8</td>\n",
       "      <td>-2.0</td>\n",
       "      <td>22.2</td>\n",
       "      <td>-1.2</td>\n",
       "      <td>-2.7</td>\n",
       "      <td>24.1</td>\n",
       "      <td>3.8</td>\n",
       "      <td>7.6</td>\n",
       "      <td>8.0</td>\n",
       "      <td>...</td>\n",
       "      <td>-1.1</td>\n",
       "      <td>3.3</td>\n",
       "      <td>-0.2</td>\n",
       "      <td>-0.4</td>\n",
       "      <td>5.6</td>\n",
       "      <td>-0.3</td>\n",
       "      <td>0.2</td>\n",
       "      <td>3.9</td>\n",
       "      <td>0.2</td>\n",
       "      <td>-0.8</td>\n",
       "    </tr>\n",
       "  </tbody>\n",
       "</table>\n",
       "<p>1 rows × 30 columns</p>\n",
       "</div>"
      ],
      "text/plain": [
       "   Ap_prev  Ap_trend_3  Ap_trend_6  Hoyre_prev  Hoyre_trend_3  Hoyre_trend_6  \\\n",
       "0     19.1        -0.8        -2.0        22.2           -1.2           -2.7   \n",
       "\n",
       "   Frp_prev  Frp_trend_3  Frp_trend_6  SV_prev  ...  Venstre_trend_6  \\\n",
       "0      24.1          3.8          7.6      8.0  ...             -1.1   \n",
       "\n",
       "   MDG_prev  MDG_trend_3  MDG_trend_6  Rodt_prev  Rodt_trend_3  Rodt_trend_6  \\\n",
       "0       3.3         -0.2         -0.4        5.6          -0.3           0.2   \n",
       "\n",
       "   Andre_prev  Andre_trend_3  Andre_trend_6  \n",
       "0         3.9            0.2           -0.8  \n",
       "\n",
       "[1 rows x 30 columns]"
      ]
     },
     "execution_count": 60,
     "metadata": {},
     "output_type": "execute_result"
    }
   ],
   "source": [
    "df_n.head()"
   ]
  },
  {
   "cell_type": "code",
   "execution_count": 84,
   "id": "bd34a8e0-6711-47a4-8fb6-923ac41af8e9",
   "metadata": {},
   "outputs": [],
   "source": [
    "predictions=pd.DataFrame(columns=['Ap', 'Hoyre', 'Frp', 'SV', 'Sp', 'KrF', 'Venstre', 'MDG','Rodt', 'Andre'])"
   ]
  },
  {
   "cell_type": "code",
   "execution_count": 85,
   "id": "ac11181c-1e0d-4af2-80f5-ceab3cb07024",
   "metadata": {},
   "outputs": [
    {
     "name": "stdout",
     "output_type": "stream",
     "text": [
      "Mean Squared Error for Ap: 1.6663362838642743\n",
      "new prediction for Ap: 18.942644821371392\n",
      "Mean Squared Error for Hoyre: 3.553310329822058\n",
      "new prediction for Hoyre: 22.92613125395317\n",
      "Mean Squared Error for Frp: 1.983941362545797\n",
      "new prediction for Frp: 18.864199110418426\n",
      "Mean Squared Error for SV: 0.34543783014157303\n",
      "new prediction for SV: 8.52397150310833\n",
      "Mean Squared Error for Sp: 1.3011048114393298\n",
      "new prediction for Sp: 6.171938556483326\n",
      "Mean Squared Error for KrF: 0.12342513269986156\n",
      "new prediction for KrF: 3.4854053969509535\n",
      "Mean Squared Error for Venstre: 0.16222421032785478\n",
      "new prediction for Venstre: 4.598771549257662\n",
      "Mean Squared Error for MDG: 0.04584618021976743\n",
      "new prediction for MDG: 3.5796016651299354\n",
      "Mean Squared Error for Rodt: 0.278762956676951\n",
      "new prediction for Rodt: 5.822205833515077\n",
      "Mean Squared Error for Andre: 0.19449819738932045\n",
      "new prediction for Andre: 3.7576462030760265\n"
     ]
    }
   ],
   "source": [
    "for party in ['Ap', 'Hoyre', 'Frp', 'SV', 'Sp', 'KrF', 'Venstre', 'MDG','Rodt', 'Andre']: \n",
    "    y=df[party]\n",
    "    X=df.drop(columns=['Ap', 'Hoyre', 'Frp', 'SV', 'Sp', 'KrF', 'Venstre', 'MDG','Rodt', 'Andre'])\n",
    "\n",
    "    # Split the data into train and test\n",
    "    X_train, X_test, y_train, y_test = train_test_split(X, y, test_size=0.2, random_state=42)\n",
    "\n",
    "\n",
    "    model_1 = RandomForestRegressor(random_state=42, n_estimators=1000, min_samples_leaf=5)\n",
    "    model_2 = LinearRegression()\n",
    "    model_3 = SVR()\n",
    "\n",
    "    pipeline = Pipeline([\n",
    "    ('feature_selection', SelectKBest(score_func=f_regression, k=20)),  # Adjust 'k' as needed\n",
    "    #('model', LinearRegression())\n",
    "    #('model' , RandomForestRegressor(random_state=42, n_estimators=1000, min_samples_leaf=5))\n",
    "    ('model', VotingRegressor(estimators=[('rf', model_1), ('lr', model_2), ('svr', model_3)]))\n",
    "    ])\n",
    "    # Fit the model\n",
    "    pipeline.fit(X_train, y_train)\n",
    "\n",
    "    selector = pipeline.named_steps['feature_selection']\n",
    "\n",
    "    # Get the selected features (Boolean mask indicating selected features)\n",
    "    #selected_features = X_train.columns[selector.get_support()]\n",
    "    #for feature in selected_features:\n",
    "    #    print(f\" selected features for {party}: {feature}\")\n",
    "    \n",
    "    # Make predictions\n",
    "    y_pred = pipeline.predict(X_test)\n",
    "\n",
    "    # Evaluate the model using Mean Squared Error\n",
    "    mse = mean_squared_error(y_test, y_pred)\n",
    "    print(f\"Mean Squared Error for {party}: {mse}\")\n",
    "\n",
    "    X_new=df_n\n",
    "    new_pred = pipeline.predict(X_new)\n",
    "    print(f\"new prediction for {party}: {new_pred[0]}\")\n",
    "\n",
    "    predictions[party] = new_pred"
   ]
  },
  {
   "cell_type": "code",
   "execution_count": 86,
   "id": "4270fda2-5757-422a-842b-7006de44b04c",
   "metadata": {},
   "outputs": [
    {
     "data": {
      "text/html": [
       "<div>\n",
       "<style scoped>\n",
       "    .dataframe tbody tr th:only-of-type {\n",
       "        vertical-align: middle;\n",
       "    }\n",
       "\n",
       "    .dataframe tbody tr th {\n",
       "        vertical-align: top;\n",
       "    }\n",
       "\n",
       "    .dataframe thead th {\n",
       "        text-align: right;\n",
       "    }\n",
       "</style>\n",
       "<table border=\"1\" class=\"dataframe\">\n",
       "  <thead>\n",
       "    <tr style=\"text-align: right;\">\n",
       "      <th></th>\n",
       "      <th>Ap</th>\n",
       "      <th>Hoyre</th>\n",
       "      <th>Frp</th>\n",
       "      <th>SV</th>\n",
       "      <th>Sp</th>\n",
       "      <th>KrF</th>\n",
       "      <th>Venstre</th>\n",
       "      <th>MDG</th>\n",
       "      <th>Rodt</th>\n",
       "      <th>Andre</th>\n",
       "    </tr>\n",
       "  </thead>\n",
       "  <tbody>\n",
       "    <tr>\n",
       "      <th>0</th>\n",
       "      <td>18.942645</td>\n",
       "      <td>22.926131</td>\n",
       "      <td>18.864199</td>\n",
       "      <td>8.523972</td>\n",
       "      <td>6.171939</td>\n",
       "      <td>3.485405</td>\n",
       "      <td>4.598772</td>\n",
       "      <td>3.579602</td>\n",
       "      <td>5.822206</td>\n",
       "      <td>3.757646</td>\n",
       "    </tr>\n",
       "  </tbody>\n",
       "</table>\n",
       "</div>"
      ],
      "text/plain": [
       "          Ap      Hoyre        Frp        SV        Sp       KrF   Venstre  \\\n",
       "0  18.942645  22.926131  18.864199  8.523972  6.171939  3.485405  4.598772   \n",
       "\n",
       "        MDG      Rodt     Andre  \n",
       "0  3.579602  5.822206  3.757646  "
      ]
     },
     "execution_count": 86,
     "metadata": {},
     "output_type": "execute_result"
    }
   ],
   "source": [
    "predictions"
   ]
  },
  {
   "cell_type": "code",
   "execution_count": null,
   "id": "289f3f60-d91f-48c6-8eea-a4ae86127ba3",
   "metadata": {},
   "outputs": [],
   "source": []
  }
 ],
 "metadata": {
  "kernelspec": {
   "display_name": "Python 3 (ipykernel)",
   "language": "python",
   "name": "python3"
  },
  "language_info": {
   "codemirror_mode": {
    "name": "ipython",
    "version": 3
   },
   "file_extension": ".py",
   "mimetype": "text/x-python",
   "name": "python",
   "nbconvert_exporter": "python",
   "pygments_lexer": "ipython3",
   "version": "3.12.3"
  }
 },
 "nbformat": 4,
 "nbformat_minor": 5
}

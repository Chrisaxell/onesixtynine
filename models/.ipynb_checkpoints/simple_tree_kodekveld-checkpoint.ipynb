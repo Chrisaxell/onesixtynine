{
 "cells": [
  {
   "cell_type": "code",
   "execution_count": 1,
   "id": "929f3f85-76f6-4c0c-a41f-f2d088047029",
   "metadata": {},
   "outputs": [],
   "source": [
    "from sklearn.pipeline import Pipeline\n",
    "from sklearn.ensemble import RandomForestRegressor\n",
    "from sklearn.feature_selection import SelectFromModel\n",
    "from sklearn.model_selection import train_test_split\n",
    "from sklearn.metrics import mean_squared_error, r2_score\n",
    "import numpy as np\n",
    "import pandas as pd"
   ]
  },
  {
   "cell_type": "code",
   "execution_count": 2,
   "id": "4543a2ea-fa12-497e-b9ed-f16b353e0b0e",
   "metadata": {},
   "outputs": [
    {
     "ename": "NameError",
     "evalue": "name 'pd' is not defined",
     "output_type": "error",
     "traceback": [
      "\u001b[31m---------------------------------------------------------------------------\u001b[39m",
      "\u001b[31mNameError\u001b[39m                                 Traceback (most recent call last)",
      "\u001b[36mCell\u001b[39m\u001b[36m \u001b[39m\u001b[32mIn[2]\u001b[39m\u001b[32m, line 2\u001b[39m\n\u001b[32m      1\u001b[39m \u001b[38;5;66;03m# Load the data from a CSV file\u001b[39;00m\n\u001b[32m----> \u001b[39m\u001b[32m2\u001b[39m df = \u001b[43mpd\u001b[49m.read_csv(\u001b[33m\"\u001b[39m\u001b[33m../data/all_v2_data.csv\u001b[39m\u001b[33m\"\u001b[39m, sep=\u001b[33m\"\u001b[39m\u001b[33m,\u001b[39m\u001b[33m\"\u001b[39m)\n\u001b[32m      3\u001b[39m df_pred= pd.read_csv(\u001b[33m\"\u001b[39m\u001b[33m../data/september_to_predict.csv\u001b[39m\u001b[33m\"\u001b[39m, sep=\u001b[33m\"\u001b[39m\u001b[33m,\u001b[39m\u001b[33m\"\u001b[39m)\n",
      "\u001b[31mNameError\u001b[39m: name 'pd' is not defined"
     ]
    }
   ],
   "source": [
    "# Load the data from a CSV file\n",
    "df = pd.read_csv(\"../data/all_v2_data.csv\", sep=\",\")\n",
    "df_pred= pd.read_csv(\"../data/september_to_predict.csv\", sep=\",\")"
   ]
  },
  {
   "cell_type": "code",
   "execution_count": null,
   "id": "c002da91-5b53-44ee-bfea-05ff0e8ddbf7",
   "metadata": {},
   "outputs": [],
   "source": [
    "df.dropna(inplace=True)"
   ]
  },
  {
   "cell_type": "code",
   "execution_count": null,
   "id": "8e44bb97-f948-4e7d-bd93-7b8227ccfa72",
   "metadata": {},
   "outputs": [],
   "source": [
    "df"
   ]
  },
  {
   "cell_type": "code",
   "execution_count": null,
   "id": "dfc055ee-9252-4bdd-ba71-5d97ca6dd7d1",
   "metadata": {},
   "outputs": [],
   "source": [
    "df_pred"
   ]
  },
  {
   "cell_type": "code",
   "execution_count": null,
   "id": "8c689ea2-757d-41d7-a435-c2336113cc0b",
   "metadata": {},
   "outputs": [],
   "source": [
    "parties=['Ap', 'Hoyre', 'Frp', 'SV', 'SP', 'KrF', 'Venstre', 'MDG','Rodt', 'Andre']\n",
    "predictions=[]"
   ]
  },
  {
   "cell_type": "code",
   "execution_count": null,
   "id": "ee11409a-2c4f-4661-9dc5-b6e2635a103f",
   "metadata": {},
   "outputs": [],
   "source": [
    "for party in parties:\n",
    "    y=df[[party]]\n",
    "    X=df[[f'{party}_var', \n",
    "          f'{party}_skandale',\n",
    "          f'{party}_skandale_lag3', \n",
    "          f'{party}_skandale_lag6', \n",
    "          f'{party}_reg', f'{party}_reg_lag3',f'{party}_reg_lag6', \n",
    "       'ledighet', 'ledig_trend3', 'ledig_trend6', 'styringsrente',\n",
    "       'styringsrente_trend3', 'styringsrente_trend6']]\n",
    "    x_pred=df_pred[[ f'{party}_var', \n",
    "                    f'{party}_skandale',\n",
    "                    f'{party}_skandale_lag3', \n",
    "                    f'{party}_skandale_lag6', \n",
    "          f'{party}_reg', f'{party}_reg_lag3',f'{party}_reg_lag6', \n",
    "       'ledighet', 'ledig_trend3', 'ledig_trend6', 'styringsrente',\n",
    "       'styringsrente_trend3', 'styringsrente_trend6']]\n",
    "    \n",
    "    x_train, x_test, y_train, y_test = train_test_split(\n",
    "    X, y, test_size=0.1, random_state=42\n",
    "    )\n",
    "    pipeline = Pipeline([\n",
    "    (\"feature_selection\", SelectFromModel(RandomForestRegressor(n_estimators=100, random_state=42), threshold=\"median\")),\n",
    "    (\"regressor\", RandomForestRegressor(n_estimators=1000, random_state=42))\n",
    "    ])\n",
    "    pipeline.fit(x_train, y_train.values.ravel())\n",
    "    y_pred = pipeline.predict(x_test)\n",
    "    r2 = r2_score(y_test, y_pred)\n",
    "    \n",
    "    \n",
    "    p=pipeline.predict(x_pred)\n",
    "    print(party + \": \" + str(p[0]))\n",
    "    predictions.append({'party': party, 'prediction': p[0], \"r2_score\": r2})"
   ]
  },
  {
   "cell_type": "code",
   "execution_count": null,
   "id": "2ecb177c-dcac-41c2-94dc-f7273271f322",
   "metadata": {},
   "outputs": [],
   "source": [
    "pred_df = pd.DataFrame(predictions)\n",
    "total = pred_df['prediction'].sum()\n",
    "pred_df['prediction'] = (pred_df['prediction'] / total) * 100\n",
    "pred_df['prediction'] = pred_df['prediction'].round(2)"
   ]
  },
  {
   "cell_type": "code",
   "execution_count": null,
   "id": "39791785-64a5-409f-a808-7fcf71582930",
   "metadata": {},
   "outputs": [],
   "source": [
    "pred_df"
   ]
  },
  {
   "cell_type": "code",
   "execution_count": null,
   "id": "d010aa62-fa87-4192-9d31-da72d49e5b9a",
   "metadata": {},
   "outputs": [],
   "source": [
    "from sklearn.ensemble import StackingRegressor\n",
    "from sklearn.linear_model import RidgeCV\n",
    "from sklearn.ensemble import GradientBoostingRegressor"
   ]
  },
  {
   "cell_type": "code",
   "execution_count": null,
   "id": "dcbc6db6-3747-4b8d-90df-85fd4761aa3f",
   "metadata": {},
   "outputs": [],
   "source": [
    "predictions=[]"
   ]
  },
  {
   "cell_type": "code",
   "execution_count": null,
   "id": "3ba44236-1777-4da7-9e33-f92f1dda382a",
   "metadata": {},
   "outputs": [],
   "source": [
    "for party in parties:\n",
    "    y=df[[party]]\n",
    "    X=df[[f'{party}_var', f'{party}_skandale',f'{party}_skandale_lag3', f'{party}_skandale_lag6', \n",
    "          f'{party}_reg', f'{party}_reg_lag3',f'{party}_reg_lag6', \n",
    "       'ledighet', 'ledig_trend3', 'ledig_trend6', 'styringsrente',\n",
    "       'styringsrente_trend3', 'styringsrente_trend6']]\n",
    "    x_pred=df_pred[[f'{party}_var', f'{party}_skandale',f'{party}_skandale_lag3', f'{party}_skandale_lag6', \n",
    "          f'{party}_reg', f'{party}_reg_lag3',f'{party}_reg_lag6', \n",
    "       'ledighet', 'ledig_trend3', 'ledig_trend6', 'styringsrente',\n",
    "       'styringsrente_trend3', 'styringsrente_trend6']]\n",
    "    \n",
    "    x_train, x_test, y_train, y_test = train_test_split(\n",
    "    X, y, test_size=0.1, random_state=42\n",
    "    )\n",
    "    estimators = [\n",
    "    ('rf', RandomForestRegressor(n_estimators=1000)),\n",
    "    ('xgb', GradientBoostingRegressor(n_estimators=1000)),\n",
    "    ('ridge', RidgeCV())\n",
    "    ]\n",
    "    stacking_model = StackingRegressor(estimators=estimators, final_estimator=RidgeCV())\n",
    "\n",
    "    pipeline = Pipeline([\n",
    "        (\"feature_selection\", SelectFromModel(RandomForestRegressor(n_estimators=100, random_state=42), threshold=\"median\")),\n",
    "        (\"regressor\", stacking_model)\n",
    "    ])\n",
    "    pipeline.fit(x_train, y_train.values.ravel())\n",
    "    y_pred = pipeline.predict(x_test)\n",
    "    r2 = r2_score(y_test, y_pred)\n",
    "    \n",
    "    \n",
    "    p=pipeline.predict(x_pred)\n",
    "    print(party + \": \" + str(p[0]))\n",
    "    predictions.append({'party': party, 'prediction': p[0], \"r2_score\": r2})"
   ]
  },
  {
   "cell_type": "code",
   "execution_count": null,
   "id": "6bd4933a-4877-4d9e-9e52-521ed4191672",
   "metadata": {},
   "outputs": [],
   "source": [
    "pred_df = pd.DataFrame(predictions)\n",
    "total = pred_df['prediction'].sum()\n",
    "pred_df['prediction'] = (pred_df['prediction'] / total) * 100\n",
    "pred_df['prediction'] = pred_df['prediction'].round(2)"
   ]
  },
  {
   "cell_type": "code",
   "execution_count": null,
   "id": "4d651ad4-5992-4242-934f-37fe77890bd1",
   "metadata": {},
   "outputs": [],
   "source": [
    "pred_df"
   ]
  },
  {
   "cell_type": "code",
   "execution_count": null,
   "id": "f5eceb22-c29b-4fe6-a6f2-11537dc47cd1",
   "metadata": {},
   "outputs": [],
   "source": []
  }
 ],
 "metadata": {
  "kernelspec": {
   "display_name": "Python 3 (ipykernel)",
   "language": "python",
   "name": "python3"
  },
  "language_info": {
   "codemirror_mode": {
    "name": "ipython",
    "version": 3
   },
   "file_extension": ".py",
   "mimetype": "text/x-python",
   "name": "python",
   "nbconvert_exporter": "python",
   "pygments_lexer": "ipython3",
   "version": "3.11.9"
  }
 },
 "nbformat": 4,
 "nbformat_minor": 5
}
